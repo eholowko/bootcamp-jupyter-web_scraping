{
 "cells": [
  {
   "cell_type": "code",
   "execution_count": 1,
   "metadata": {
    "collapsed": true
   },
   "outputs": [],
   "source": [
    "import requests"
   ]
  },
  {
   "cell_type": "code",
   "execution_count": 2,
   "metadata": {
    "collapsed": true
   },
   "outputs": [],
   "source": [
    "from bs4 import BeautifulSoup"
   ]
  },
  {
   "cell_type": "code",
   "execution_count": 46,
   "metadata": {
    "collapsed": true
   },
   "outputs": [],
   "source": [
    "url = \"https://www.imdb.com/search/title?release_date=2017-01-01,&sort=num_votes,desc\""
   ]
  },
  {
   "cell_type": "code",
   "execution_count": 47,
   "metadata": {
    "collapsed": true
   },
   "outputs": [],
   "source": [
    "response = requests.get(url)"
   ]
  },
  {
   "cell_type": "code",
   "execution_count": 48,
   "metadata": {
    "collapsed": true
   },
   "outputs": [],
   "source": [
    "soup = BeautifulSoup(response.text,'html.parser')"
   ]
  },
  {
   "cell_type": "code",
   "execution_count": 50,
   "metadata": {
    "collapsed": false
   },
   "outputs": [],
   "source": [
    "movie_containers = soup.find_all('div', class_ = 'lister-item mode-advanced')"
   ]
  },
  {
   "cell_type": "code",
   "execution_count": 51,
   "metadata": {
    "collapsed": false
   },
   "outputs": [
    {
     "name": "stdout",
     "output_type": "stream",
     "text": [
      "<class 'bs4.element.ResultSet'>\n",
      "50\n"
     ]
    }
   ],
   "source": [
    "print(type(movie_containers))\n",
    "print(len(movie_containers))"
   ]
  },
  {
   "cell_type": "markdown",
   "metadata": {},
   "source": [
    "## Extracting the data for a single movie"
   ]
  },
  {
   "cell_type": "code",
   "execution_count": 52,
   "metadata": {
    "collapsed": true
   },
   "outputs": [],
   "source": [
    "first_movie = movie_containers[0]"
   ]
  },
  {
   "cell_type": "code",
   "execution_count": 53,
   "metadata": {
    "collapsed": false
   },
   "outputs": [
    {
     "name": "stdout",
     "output_type": "stream",
     "text": [
      "<div class=\"lister-item mode-advanced\">\n",
      " <div class=\"lister-top-right\">\n",
      "  <div class=\"ribbonize\" data-caller=\"filmosearch\" data-tconst=\"tt3315342\">\n",
      "  </div>\n",
      " </div>\n",
      " <div class=\"lister-item-image float-left\">\n",
      "  <a href=\"/title/tt3315342/?ref_=adv_li_i\">\n",
      "   <img alt=\"Logan: Wolverine\" class=\"loadlate\" data-tconst=\"tt3315342\" height=\"98\" loadlate=\"https://ia.media-imdb.com/images/M/MV5BYzc5MTU4N2EtYTkyMi00NjdhLTg3NWEtMTY4OTEyMzJhZTAzXkEyXkFqcGdeQXVyNjc1NTYyMjg@._V1_UX67_CR0,0,67,98_AL_.jpg\" src=\"https://images-na.ssl-images-amazon.com/images/G/01/imdb/images/nopicture/large/film-184890147._CB499613450_.png\" width=\"67\"/>\n",
      "  </a>\n",
      " </div>\n",
      " <div class=\"lister-item-content\">\n",
      "  <h3 class=\"lister-item-header\">\n",
      "   <span class=\"lister-item-index unbold text-primary\">\n",
      "    1.\n",
      "   </span>\n",
      "   <a href=\"/title/tt3315342/?ref_=adv_li_tt\">\n",
      "    Logan: Wolverine\n",
      "   </a>\n",
      "   <span class=\"lister-item-year text-muted unbold\">\n",
      "    (2017)\n",
      "   </span>\n",
      "  </h3>\n",
      "  <p class=\"text-muted \">\n",
      "   <span class=\"certificate\">\n",
      "    15\n",
      "   </span>\n",
      "   <span class=\"ghost\">\n",
      "    |\n",
      "   </span>\n",
      "   <span class=\"runtime\">\n",
      "    137 min\n",
      "   </span>\n",
      "   <span class=\"ghost\">\n",
      "    |\n",
      "   </span>\n",
      "   <span class=\"genre\">\n",
      "    Action, Drama, Sci-Fi\n",
      "   </span>\n",
      "  </p>\n",
      "  <div class=\"ratings-bar\">\n",
      "   <div class=\"inline-block ratings-imdb-rating\" data-value=\"8.1\" name=\"ir\">\n",
      "    <span class=\"global-sprite rating-star imdb-rating\">\n",
      "    </span>\n",
      "    <strong>\n",
      "     8.1\n",
      "    </strong>\n",
      "   </div>\n",
      "   <div class=\"inline-block ratings-user-rating\">\n",
      "    <span class=\"userRatingValue\" data-tconst=\"tt3315342\" id=\"urv_tt3315342\">\n",
      "     <span class=\"global-sprite rating-star no-rating\">\n",
      "     </span>\n",
      "     <span class=\"rate\" data-no-rating=\"Rate this\" data-value=\"0\" name=\"ur\">\n",
      "      Rate this\n",
      "     </span>\n",
      "    </span>\n",
      "    <div class=\"starBarWidget\" id=\"sb_tt3315342\">\n",
      "     <div class=\"rating rating-list\" data-auth=\"\" data-ga-identifier=\"\" data-starbar-class=\"rating-list\" data-user=\"\" id=\"tt3315342|imdb|8.1|8.1|||search|title\" itemprop=\"aggregateRating\" itemscope=\"\" itemtype=\"http://schema.org/AggregateRating\" title=\"Users rated this 8.1/10 (473,172 votes) - click stars to rate\">\n",
      "      <meta content=\"8.1\" itemprop=\"ratingValue\"/>\n",
      "      <meta content=\"10\" itemprop=\"bestRating\"/>\n",
      "      <meta content=\"473172\" itemprop=\"ratingCount\"/>\n",
      "      <span class=\"rating-bg\">\n",
      "      </span>\n",
      "      <span class=\"rating-imdb \" style=\"width: 113.4px\">\n",
      "      </span>\n",
      "      <span class=\"rating-stars\">\n",
      "       <a href=\"/register/login?why=vote&amp;ref_=tt_ov_rt\" rel=\"nofollow\" title=\"Register or login to rate this title\">\n",
      "        <span>\n",
      "         1\n",
      "        </span>\n",
      "       </a>\n",
      "       <a href=\"/register/login?why=vote&amp;ref_=tt_ov_rt\" rel=\"nofollow\" title=\"Register or login to rate this title\">\n",
      "        <span>\n",
      "         2\n",
      "        </span>\n",
      "       </a>\n",
      "       <a href=\"/register/login?why=vote&amp;ref_=tt_ov_rt\" rel=\"nofollow\" title=\"Register or login to rate this title\">\n",
      "        <span>\n",
      "         3\n",
      "        </span>\n",
      "       </a>\n",
      "       <a href=\"/register/login?why=vote&amp;ref_=tt_ov_rt\" rel=\"nofollow\" title=\"Register or login to rate this title\">\n",
      "        <span>\n",
      "         4\n",
      "        </span>\n",
      "       </a>\n",
      "       <a href=\"/register/login?why=vote&amp;ref_=tt_ov_rt\" rel=\"nofollow\" title=\"Register or login to rate this title\">\n",
      "        <span>\n",
      "         5\n",
      "        </span>\n",
      "       </a>\n",
      "       <a href=\"/register/login?why=vote&amp;ref_=tt_ov_rt\" rel=\"nofollow\" title=\"Register or login to rate this title\">\n",
      "        <span>\n",
      "         6\n",
      "        </span>\n",
      "       </a>\n",
      "       <a href=\"/register/login?why=vote&amp;ref_=tt_ov_rt\" rel=\"nofollow\" title=\"Register or login to rate this title\">\n",
      "        <span>\n",
      "         7\n",
      "        </span>\n",
      "       </a>\n",
      "       <a href=\"/register/login?why=vote&amp;ref_=tt_ov_rt\" rel=\"nofollow\" title=\"Register or login to rate this title\">\n",
      "        <span>\n",
      "         8\n",
      "        </span>\n",
      "       </a>\n",
      "       <a href=\"/register/login?why=vote&amp;ref_=tt_ov_rt\" rel=\"nofollow\" title=\"Register or login to rate this title\">\n",
      "        <span>\n",
      "         9\n",
      "        </span>\n",
      "       </a>\n",
      "       <a href=\"/register/login?why=vote&amp;ref_=tt_ov_rt\" rel=\"nofollow\" title=\"Register or login to rate this title\">\n",
      "        <span>\n",
      "         10\n",
      "        </span>\n",
      "       </a>\n",
      "      </span>\n",
      "      <span class=\"rating-rating \">\n",
      "       <span class=\"value\">\n",
      "        8.1\n",
      "       </span>\n",
      "       <span class=\"grey\">\n",
      "        /\n",
      "       </span>\n",
      "       <span class=\"grey\">\n",
      "        10\n",
      "       </span>\n",
      "      </span>\n",
      "      <span class=\"rating-cancel \">\n",
      "       <a href=\"/title/tt3315342/vote?v=X;k=\" rel=\"nofollow\" title=\"Delete\">\n",
      "        <span>\n",
      "         X\n",
      "        </span>\n",
      "       </a>\n",
      "      </span>\n",
      "     </div>\n",
      "    </div>\n",
      "   </div>\n",
      "   <div class=\"inline-block ratings-metascore\">\n",
      "    <span class=\"metascore favorable\">\n",
      "     77\n",
      "    </span>\n",
      "    Metascore\n",
      "   </div>\n",
      "  </div>\n",
      "  <p class=\"text-muted\">\n",
      "   In the near future, a weary Logan cares for an ailing Professor X, somewhere on the Mexican border. However, Logan's attempts to hide from the world, and his legacy, are upended when a young mutant arrives, pursued by dark forces.\n",
      "  </p>\n",
      "  <p class=\"\">\n",
      "   Director:\n",
      "   <a href=\"/name/nm0003506/?ref_=adv_li_dr_0\">\n",
      "    James Mangold\n",
      "   </a>\n",
      "   <span class=\"ghost\">\n",
      "    |\n",
      "   </span>\n",
      "   Stars:\n",
      "   <a href=\"/name/nm0413168/?ref_=adv_li_st_0\">\n",
      "    Hugh Jackman\n",
      "   </a>\n",
      "   ,\n",
      "   <a href=\"/name/nm0001772/?ref_=adv_li_st_1\">\n",
      "    Patrick Stewart\n",
      "   </a>\n",
      "   ,\n",
      "   <a href=\"/name/nm6748436/?ref_=adv_li_st_2\">\n",
      "    Dafne Keen\n",
      "   </a>\n",
      "   ,\n",
      "   <a href=\"/name/nm2933542/?ref_=adv_li_st_3\">\n",
      "    Boyd Holbrook\n",
      "   </a>\n",
      "  </p>\n",
      "  <p class=\"sort-num_votes-visible\">\n",
      "   <span class=\"text-muted\">\n",
      "    Votes:\n",
      "   </span>\n",
      "   <span data-value=\"473172\" name=\"nv\">\n",
      "    473,172\n",
      "   </span>\n",
      "   <span class=\"ghost\">\n",
      "    |\n",
      "   </span>\n",
      "   <span class=\"text-muted\">\n",
      "    Gross:\n",
      "   </span>\n",
      "   <span data-value=\"226,277,068\" name=\"nv\">\n",
      "    $226.28M\n",
      "   </span>\n",
      "  </p>\n",
      " </div>\n",
      "</div>\n",
      "\n"
     ]
    }
   ],
   "source": [
    "print(first_movie.prettify())"
   ]
  },
  {
   "cell_type": "markdown",
   "metadata": {},
   "source": [
    "* Title\n",
    "* The year of release\n",
    "* IMDB rating\n",
    "* The Metascore\n",
    "* The number of votes"
   ]
  },
  {
   "cell_type": "code",
   "execution_count": 54,
   "metadata": {
    "collapsed": false
   },
   "outputs": [
    {
     "data": {
      "text/plain": [
       "'Logan: Wolverine'"
      ]
     },
     "execution_count": 54,
     "metadata": {},
     "output_type": "execute_result"
    }
   ],
   "source": [
    "first_title = first_movie.h3.a.text\n",
    "first_title"
   ]
  },
  {
   "cell_type": "code",
   "execution_count": 57,
   "metadata": {
    "collapsed": false
   },
   "outputs": [
    {
     "data": {
      "text/plain": [
       "'(2017)'"
      ]
     },
     "execution_count": 57,
     "metadata": {},
     "output_type": "execute_result"
    }
   ],
   "source": [
    "first_year = first_movie.h3.find('span', class_ = 'lister-item-year text-muted unbold').text\n",
    "first_year"
   ]
  },
  {
   "cell_type": "code",
   "execution_count": 58,
   "metadata": {
    "collapsed": false
   },
   "outputs": [
    {
     "data": {
      "text/plain": [
       "8.1"
      ]
     },
     "execution_count": 58,
     "metadata": {},
     "output_type": "execute_result"
    }
   ],
   "source": [
    "first_imdb = float(first_movie.strong.text)\n",
    "first_imdb"
   ]
  },
  {
   "cell_type": "code",
   "execution_count": 59,
   "metadata": {
    "collapsed": false
   },
   "outputs": [
    {
     "name": "stdout",
     "output_type": "stream",
     "text": [
      "77\n"
     ]
    }
   ],
   "source": [
    "first_mscore = first_movie.find('span', class_ = 'metascore favorable')\n",
    "\n",
    "first_mscore = int(first_mscore.text)\n",
    "print(first_mscore)"
   ]
  },
  {
   "cell_type": "code",
   "execution_count": 62,
   "metadata": {
    "collapsed": false
   },
   "outputs": [
    {
     "data": {
      "text/plain": [
       "473172"
      ]
     },
     "execution_count": 62,
     "metadata": {},
     "output_type": "execute_result"
    }
   ],
   "source": [
    "first_votes = int(first_movie.find('span', attrs = {'name':'nv'})[\"data-value\"])\n",
    "first_votes"
   ]
  },
  {
   "cell_type": "markdown",
   "metadata": {},
   "source": [
    "## The script for a single page"
   ]
  },
  {
   "cell_type": "code",
   "execution_count": 67,
   "metadata": {
    "collapsed": false
   },
   "outputs": [],
   "source": [
    "titles = []\n",
    "years = []\n",
    "imdb_ratings = []\n",
    "metascores = []\n",
    "votes = []\n",
    "\n",
    "# Extract data from individual movie container\n",
    "for container in movie_containers:\n",
    "\n",
    "    # If the movie has Metascore, then extract:\n",
    "    if container.find('div', class_ = 'ratings-metascore') is not None:\n",
    "\n",
    "        # The name\n",
    "        title = container.h3.a.text\n",
    "        titles.append(title)\n",
    "\n",
    "        # The year\n",
    "        year = container.h3.find('span', class_ = 'lister-item-year').text\n",
    "        years.append(year)\n",
    "\n",
    "        # The IMDB rating\n",
    "        imdb = float(container.strong.text)\n",
    "        imdb_ratings.append(imdb)\n",
    "\n",
    "        # The Metascore\n",
    "        m_score = container.find('span', class_ = 'metascore').text\n",
    "        metascores.append(int(m_score))\n",
    "\n",
    "        # The number of votes\n",
    "        vote = container.find('span', attrs = {'name':'nv'})['data-value']\n",
    "        votes.append(int(vote))"
   ]
  },
  {
   "cell_type": "code",
   "execution_count": 68,
   "metadata": {
    "collapsed": true
   },
   "outputs": [],
   "source": [
    "import pandas as pd"
   ]
  },
  {
   "cell_type": "code",
   "execution_count": 69,
   "metadata": {
    "collapsed": true
   },
   "outputs": [],
   "source": [
    "test_df = pd.DataFrame({\"movie\":titles,\n",
    "                       \"year\":years,\n",
    "                       \"imdb\":imdb_ratings,\n",
    "                       \"metascore\":metascores,\n",
    "                       \"votes\":votes})"
   ]
  },
  {
   "cell_type": "code",
   "execution_count": 71,
   "metadata": {
    "collapsed": false
   },
   "outputs": [
    {
     "data": {
      "text/html": [
       "<div>\n",
       "<table border=\"1\" class=\"dataframe\">\n",
       "  <thead>\n",
       "    <tr style=\"text-align: right;\">\n",
       "      <th></th>\n",
       "      <th>imdb</th>\n",
       "      <th>metascore</th>\n",
       "      <th>movie</th>\n",
       "      <th>votes</th>\n",
       "      <th>year</th>\n",
       "    </tr>\n",
       "  </thead>\n",
       "  <tbody>\n",
       "    <tr>\n",
       "      <th>0</th>\n",
       "      <td>8.1</td>\n",
       "      <td>77</td>\n",
       "      <td>Logan: Wolverine</td>\n",
       "      <td>473172</td>\n",
       "      <td>(2017)</td>\n",
       "    </tr>\n",
       "    <tr>\n",
       "      <th>1</th>\n",
       "      <td>7.5</td>\n",
       "      <td>76</td>\n",
       "      <td>Wonder Woman</td>\n",
       "      <td>403327</td>\n",
       "      <td>(2017)</td>\n",
       "    </tr>\n",
       "    <tr>\n",
       "      <th>2</th>\n",
       "      <td>8.0</td>\n",
       "      <td>94</td>\n",
       "      <td>Dunkierka</td>\n",
       "      <td>381018</td>\n",
       "      <td>(2017)</td>\n",
       "    </tr>\n",
       "    <tr>\n",
       "      <th>3</th>\n",
       "      <td>7.3</td>\n",
       "      <td>85</td>\n",
       "      <td>Gwiezdne wojny: Ostatni Jedi</td>\n",
       "      <td>367555</td>\n",
       "      <td>(2017)</td>\n",
       "    </tr>\n",
       "    <tr>\n",
       "      <th>4</th>\n",
       "      <td>7.7</td>\n",
       "      <td>67</td>\n",
       "      <td>Strażnicy Galaktyki vol. 2</td>\n",
       "      <td>365050</td>\n",
       "      <td>(2017)</td>\n",
       "    </tr>\n",
       "    <tr>\n",
       "      <th>5</th>\n",
       "      <td>7.5</td>\n",
       "      <td>73</td>\n",
       "      <td>Spider-Man: Homecoming</td>\n",
       "      <td>307500</td>\n",
       "      <td>(2017)</td>\n",
       "    </tr>\n",
       "    <tr>\n",
       "      <th>6</th>\n",
       "      <td>7.9</td>\n",
       "      <td>74</td>\n",
       "      <td>Thor: Ragnarok</td>\n",
       "      <td>303229</td>\n",
       "      <td>(2017)</td>\n",
       "    </tr>\n",
       "    <tr>\n",
       "      <th>7</th>\n",
       "      <td>7.7</td>\n",
       "      <td>84</td>\n",
       "      <td>Uciekaj!</td>\n",
       "      <td>297220</td>\n",
       "      <td>(I) (2017)</td>\n",
       "    </tr>\n",
       "    <tr>\n",
       "      <th>8</th>\n",
       "      <td>7.7</td>\n",
       "      <td>86</td>\n",
       "      <td>Baby Driver</td>\n",
       "      <td>292476</td>\n",
       "      <td>(2017)</td>\n",
       "    </tr>\n",
       "    <tr>\n",
       "      <th>9</th>\n",
       "      <td>8.1</td>\n",
       "      <td>81</td>\n",
       "      <td>Blade Runner 2049</td>\n",
       "      <td>284937</td>\n",
       "      <td>(2017)</td>\n",
       "    </tr>\n",
       "  </tbody>\n",
       "</table>\n",
       "</div>"
      ],
      "text/plain": [
       "   imdb  metascore                         movie   votes        year\n",
       "0   8.1         77              Logan: Wolverine  473172      (2017)\n",
       "1   7.5         76                  Wonder Woman  403327      (2017)\n",
       "2   8.0         94                     Dunkierka  381018      (2017)\n",
       "3   7.3         85  Gwiezdne wojny: Ostatni Jedi  367555      (2017)\n",
       "4   7.7         67    Strażnicy Galaktyki vol. 2  365050      (2017)\n",
       "5   7.5         73        Spider-Man: Homecoming  307500      (2017)\n",
       "6   7.9         74                Thor: Ragnarok  303229      (2017)\n",
       "7   7.7         84                      Uciekaj!  297220  (I) (2017)\n",
       "8   7.7         86                   Baby Driver  292476      (2017)\n",
       "9   8.1         81             Blade Runner 2049  284937      (2017)"
      ]
     },
     "execution_count": 71,
     "metadata": {},
     "output_type": "execute_result"
    }
   ],
   "source": [
    "test_df.head(10)"
   ]
  },
  {
   "cell_type": "markdown",
   "metadata": {},
   "source": [
    "## Changing the URL's parameters"
   ]
  },
  {
   "cell_type": "code",
   "execution_count": 82,
   "metadata": {
    "collapsed": true
   },
   "outputs": [],
   "source": [
    "pages = [str(i)for i in range(1,5)]\n",
    "years_url = [str(i) for i in range(2015,2018)]"
   ]
  },
  {
   "cell_type": "code",
   "execution_count": 74,
   "metadata": {
    "collapsed": true
   },
   "outputs": [],
   "source": [
    "from time import sleep\n",
    "from random import randint"
   ]
  },
  {
   "cell_type": "code",
   "execution_count": 75,
   "metadata": {
    "collapsed": true
   },
   "outputs": [],
   "source": [
    "from time import time\n",
    "from IPython.core.display import clear_output\n",
    "from warnings import warn"
   ]
  },
  {
   "cell_type": "code",
   "execution_count": 83,
   "metadata": {
    "collapsed": false
   },
   "outputs": [
    {
     "name": "stdout",
     "output_type": "stream",
     "text": [
      "Request: 12; Frequency: 0.06917855882246769 requests/s\n"
     ]
    }
   ],
   "source": [
    "titles = []\n",
    "years = []\n",
    "imdb_ratings = []\n",
    "metascores = []\n",
    "votes = []\n",
    "\n",
    "start_time = time()\n",
    "requests_nmb = 0\n",
    "\n",
    "for year_url in years_url:\n",
    "    for page in pages:\n",
    "        response = requests.get('http://www.imdb.com/search/title?release_date=' + year_url + \n",
    "        '&sort=num_votes,desc&page=' + page)\n",
    "        \n",
    "        sleep(randint(8,15))\n",
    "        \n",
    "        requests_nmb += 1\n",
    "        elapsed_time = time() - start_time\n",
    "        \n",
    "        print('Request: {}; Frequency: {} requests/s'.format(requests_nmb,requests_nmb/elapsed_time))\n",
    "        clear_output(wait=True)\n",
    "        \n",
    "        #Throw a warning if non-200 status codes\n",
    "        if response.status_code != 200:\n",
    "            warn('Requests: {}; Status code: {}'.format(requests_nmb,response.status_code))\n",
    "        \n",
    "        # Break the loop if the number of requests is greater than expected\n",
    "        if requests_nmb > 72:\n",
    "            warn('Number of requests was greater than expected.')\n",
    "            break\n",
    "            \n",
    "        soup = BeautifulSoup(response.text,'html.parser')\n",
    "        \n",
    "        mv_containers = soup.find_all('div',class_= 'lister-item mode-advanced')\n",
    "        \n",
    "        # Extract data from individual movie container\n",
    "        for container in mv_containers:\n",
    "\n",
    "            # If the movie has Metascore, then extract:\n",
    "            if container.find('div', class_ = 'ratings-metascore') is not None:\n",
    "\n",
    "                # The name\n",
    "                title = container.h3.a.text\n",
    "                titles.append(title)\n",
    "\n",
    "                # The year\n",
    "                year = container.h3.find('span', class_ = 'lister-item-year').text\n",
    "                years.append(year)\n",
    "\n",
    "                # The IMDB rating\n",
    "                imdb = float(container.strong.text)\n",
    "                imdb_ratings.append(imdb)\n",
    "\n",
    "                # The Metascore\n",
    "                m_score = container.find('span', class_ = 'metascore').text\n",
    "                metascores.append(int(m_score))\n",
    "\n",
    "                # The number of votes\n",
    "                vote = container.find('span', attrs = {'name':'nv'})['data-value']\n",
    "                votes.append(int(vote))"
   ]
  },
  {
   "cell_type": "code",
   "execution_count": 112,
   "metadata": {
    "collapsed": false
   },
   "outputs": [
    {
     "name": "stdout",
     "output_type": "stream",
     "text": [
      "<class 'pandas.core.frame.DataFrame'>\n",
      "RangeIndex: 450 entries, 0 to 449\n",
      "Data columns (total 5 columns):\n",
      "imdb         450 non-null float64\n",
      "metascore    450 non-null int64\n",
      "movie        450 non-null object\n",
      "votes        450 non-null int64\n",
      "year         450 non-null object\n",
      "dtypes: float64(1), int64(2), object(2)\n",
      "memory usage: 17.7+ KB\n",
      "None\n"
     ]
    },
    {
     "data": {
      "text/html": [
       "<div>\n",
       "<table border=\"1\" class=\"dataframe\">\n",
       "  <thead>\n",
       "    <tr style=\"text-align: right;\">\n",
       "      <th></th>\n",
       "      <th>imdb</th>\n",
       "      <th>metascore</th>\n",
       "      <th>movie</th>\n",
       "      <th>votes</th>\n",
       "      <th>year</th>\n",
       "    </tr>\n",
       "  </thead>\n",
       "  <tbody>\n",
       "    <tr>\n",
       "      <th>0</th>\n",
       "      <td>8.0</td>\n",
       "      <td>81</td>\n",
       "      <td>Gwiezdne wojny: Przebudzenie mocy</td>\n",
       "      <td>736392</td>\n",
       "      <td>(2015)</td>\n",
       "    </tr>\n",
       "    <tr>\n",
       "      <th>1</th>\n",
       "      <td>8.1</td>\n",
       "      <td>90</td>\n",
       "      <td>Mad Max: Na drodze gniewu</td>\n",
       "      <td>707696</td>\n",
       "      <td>(2015)</td>\n",
       "    </tr>\n",
       "    <tr>\n",
       "      <th>2</th>\n",
       "      <td>8.0</td>\n",
       "      <td>80</td>\n",
       "      <td>Marsjanin</td>\n",
       "      <td>615245</td>\n",
       "      <td>(2015)</td>\n",
       "    </tr>\n",
       "    <tr>\n",
       "      <th>3</th>\n",
       "      <td>7.4</td>\n",
       "      <td>66</td>\n",
       "      <td>Avengers: Czas Ultrona</td>\n",
       "      <td>572170</td>\n",
       "      <td>(2015)</td>\n",
       "    </tr>\n",
       "    <tr>\n",
       "      <th>4</th>\n",
       "      <td>8.0</td>\n",
       "      <td>76</td>\n",
       "      <td>Zjawa</td>\n",
       "      <td>556781</td>\n",
       "      <td>(2015)</td>\n",
       "    </tr>\n",
       "    <tr>\n",
       "      <th>5</th>\n",
       "      <td>7.0</td>\n",
       "      <td>59</td>\n",
       "      <td>Jurassic World</td>\n",
       "      <td>488825</td>\n",
       "      <td>(2015)</td>\n",
       "    </tr>\n",
       "    <tr>\n",
       "      <th>6</th>\n",
       "      <td>8.2</td>\n",
       "      <td>94</td>\n",
       "      <td>W głowie się nie mieści</td>\n",
       "      <td>477349</td>\n",
       "      <td>(I) (2015)</td>\n",
       "    </tr>\n",
       "    <tr>\n",
       "      <th>7</th>\n",
       "      <td>7.3</td>\n",
       "      <td>64</td>\n",
       "      <td>Ant-Man</td>\n",
       "      <td>420111</td>\n",
       "      <td>(2015)</td>\n",
       "    </tr>\n",
       "    <tr>\n",
       "      <th>8</th>\n",
       "      <td>7.8</td>\n",
       "      <td>68</td>\n",
       "      <td>Nienawistna ósemka</td>\n",
       "      <td>388519</td>\n",
       "      <td>(2015)</td>\n",
       "    </tr>\n",
       "    <tr>\n",
       "      <th>9</th>\n",
       "      <td>6.8</td>\n",
       "      <td>60</td>\n",
       "      <td>Spectre</td>\n",
       "      <td>331487</td>\n",
       "      <td>(I) (2015)</td>\n",
       "    </tr>\n",
       "  </tbody>\n",
       "</table>\n",
       "</div>"
      ],
      "text/plain": [
       "   imdb  metascore                              movie   votes        year\n",
       "0   8.0         81  Gwiezdne wojny: Przebudzenie mocy  736392      (2015)\n",
       "1   8.1         90          Mad Max: Na drodze gniewu  707696      (2015)\n",
       "2   8.0         80                          Marsjanin  615245      (2015)\n",
       "3   7.4         66             Avengers: Czas Ultrona  572170      (2015)\n",
       "4   8.0         76                              Zjawa  556781      (2015)\n",
       "5   7.0         59                     Jurassic World  488825      (2015)\n",
       "6   8.2         94            W głowie się nie mieści  477349  (I) (2015)\n",
       "7   7.3         64                            Ant-Man  420111      (2015)\n",
       "8   7.8         68                 Nienawistna ósemka  388519      (2015)\n",
       "9   6.8         60                            Spectre  331487  (I) (2015)"
      ]
     },
     "execution_count": 112,
     "metadata": {},
     "output_type": "execute_result"
    }
   ],
   "source": [
    "movie_ratings = pd.DataFrame({'movie': titles,\n",
    "                              'year': years,\n",
    "                              'imdb': imdb_ratings,\n",
    "                              'metascore': metascores,\n",
    "                              'votes': votes})\n",
    "print(movie_ratings.info())\n",
    "movie_ratings.head(10)"
   ]
  },
  {
   "cell_type": "code",
   "execution_count": 113,
   "metadata": {
    "collapsed": false
   },
   "outputs": [
    {
     "name": "stdout",
     "output_type": "stream",
     "text": [
      "<class 'pandas.core.frame.DataFrame'>\n",
      "RangeIndex: 450 entries, 0 to 449\n",
      "Data columns (total 5 columns):\n",
      "imdb         450 non-null float64\n",
      "metascore    450 non-null int64\n",
      "movie        450 non-null object\n",
      "votes        450 non-null int64\n",
      "year         450 non-null object\n",
      "dtypes: float64(1), int64(2), object(2)\n",
      "memory usage: 17.7+ KB\n"
     ]
    }
   ],
   "source": [
    "movie_ratings.info()"
   ]
  },
  {
   "cell_type": "markdown",
   "metadata": {},
   "source": [
    "## Cleaning the data"
   ]
  },
  {
   "cell_type": "code",
   "execution_count": 114,
   "metadata": {
    "collapsed": false
   },
   "outputs": [
    {
     "data": {
      "text/html": [
       "<div>\n",
       "<table border=\"1\" class=\"dataframe\">\n",
       "  <thead>\n",
       "    <tr style=\"text-align: right;\">\n",
       "      <th></th>\n",
       "      <th>movie</th>\n",
       "      <th>year</th>\n",
       "      <th>imdb</th>\n",
       "      <th>metascore</th>\n",
       "      <th>votes</th>\n",
       "    </tr>\n",
       "  </thead>\n",
       "  <tbody>\n",
       "    <tr>\n",
       "      <th>0</th>\n",
       "      <td>Gwiezdne wojny: Przebudzenie mocy</td>\n",
       "      <td>(2015)</td>\n",
       "      <td>8.0</td>\n",
       "      <td>81</td>\n",
       "      <td>736392</td>\n",
       "    </tr>\n",
       "    <tr>\n",
       "      <th>1</th>\n",
       "      <td>Mad Max: Na drodze gniewu</td>\n",
       "      <td>(2015)</td>\n",
       "      <td>8.1</td>\n",
       "      <td>90</td>\n",
       "      <td>707696</td>\n",
       "    </tr>\n",
       "    <tr>\n",
       "      <th>2</th>\n",
       "      <td>Marsjanin</td>\n",
       "      <td>(2015)</td>\n",
       "      <td>8.0</td>\n",
       "      <td>80</td>\n",
       "      <td>615245</td>\n",
       "    </tr>\n",
       "    <tr>\n",
       "      <th>3</th>\n",
       "      <td>Avengers: Czas Ultrona</td>\n",
       "      <td>(2015)</td>\n",
       "      <td>7.4</td>\n",
       "      <td>66</td>\n",
       "      <td>572170</td>\n",
       "    </tr>\n",
       "    <tr>\n",
       "      <th>4</th>\n",
       "      <td>Zjawa</td>\n",
       "      <td>(2015)</td>\n",
       "      <td>8.0</td>\n",
       "      <td>76</td>\n",
       "      <td>556781</td>\n",
       "    </tr>\n",
       "  </tbody>\n",
       "</table>\n",
       "</div>"
      ],
      "text/plain": [
       "                               movie    year  imdb  metascore   votes\n",
       "0  Gwiezdne wojny: Przebudzenie mocy  (2015)   8.0         81  736392\n",
       "1          Mad Max: Na drodze gniewu  (2015)   8.1         90  707696\n",
       "2                          Marsjanin  (2015)   8.0         80  615245\n",
       "3             Avengers: Czas Ultrona  (2015)   7.4         66  572170\n",
       "4                              Zjawa  (2015)   8.0         76  556781"
      ]
     },
     "execution_count": 114,
     "metadata": {},
     "output_type": "execute_result"
    }
   ],
   "source": [
    "movie_ratings = movie_ratings[[\"movie\",\"year\",\"imdb\",\"metascore\",\"votes\"]]\n",
    "movie_ratings.head()"
   ]
  },
  {
   "cell_type": "code",
   "execution_count": 115,
   "metadata": {
    "collapsed": false
   },
   "outputs": [
    {
     "data": {
      "text/plain": [
       "array(['(2015)', '(I) (2015)', '(II) (2015)', '(VI) (2015)',\n",
       "       '(III) (2015)', '(2016)', '(II) (2016)', '(I) (2016)',\n",
       "       '(IX) (2016)', '(V) (2016)', '(2017)', '(I) (2017)', '(III) (2017)',\n",
       "       '(II) (2017)'], dtype=object)"
      ]
     },
     "execution_count": 115,
     "metadata": {},
     "output_type": "execute_result"
    }
   ],
   "source": [
    "movie_ratings[\"year\"].unique()"
   ]
  },
  {
   "cell_type": "code",
   "execution_count": 116,
   "metadata": {
    "collapsed": false
   },
   "outputs": [],
   "source": [
    "movie_ratings[\"year\"] = movie_ratings[\"year\"].str.extract('([\\d]{4})',expand=True).astype(int)"
   ]
  },
  {
   "cell_type": "code",
   "execution_count": 117,
   "metadata": {
    "collapsed": false
   },
   "outputs": [
    {
     "data": {
      "text/plain": [
       "array([2015, 2016, 2017])"
      ]
     },
     "execution_count": 117,
     "metadata": {},
     "output_type": "execute_result"
    }
   ],
   "source": [
    "movie_ratings[\"year\"].unique()"
   ]
  },
  {
   "cell_type": "code",
   "execution_count": 118,
   "metadata": {
    "collapsed": false
   },
   "outputs": [
    {
     "name": "stdout",
     "output_type": "stream",
     "text": [
      "<class 'pandas.core.frame.DataFrame'>\n",
      "RangeIndex: 450 entries, 0 to 449\n",
      "Data columns (total 5 columns):\n",
      "movie        450 non-null object\n",
      "year         450 non-null int64\n",
      "imdb         450 non-null float64\n",
      "metascore    450 non-null int64\n",
      "votes        450 non-null int64\n",
      "dtypes: float64(1), int64(3), object(1)\n",
      "memory usage: 17.7+ KB\n"
     ]
    }
   ],
   "source": [
    "movie_ratings.info()"
   ]
  },
  {
   "cell_type": "code",
   "execution_count": 119,
   "metadata": {
    "collapsed": false
   },
   "outputs": [
    {
     "data": {
      "text/html": [
       "<div>\n",
       "<table border=\"1\" class=\"dataframe\">\n",
       "  <thead>\n",
       "    <tr style=\"text-align: right;\">\n",
       "      <th></th>\n",
       "      <th>metascore</th>\n",
       "      <th>imdb</th>\n",
       "    </tr>\n",
       "  </thead>\n",
       "  <tbody>\n",
       "    <tr>\n",
       "      <th>count</th>\n",
       "      <td>450.000000</td>\n",
       "      <td>450.000000</td>\n",
       "    </tr>\n",
       "    <tr>\n",
       "      <th>mean</th>\n",
       "      <td>58.546667</td>\n",
       "      <td>6.679111</td>\n",
       "    </tr>\n",
       "    <tr>\n",
       "      <th>std</th>\n",
       "      <td>18.050629</td>\n",
       "      <td>0.841231</td>\n",
       "    </tr>\n",
       "    <tr>\n",
       "      <th>min</th>\n",
       "      <td>12.000000</td>\n",
       "      <td>3.100000</td>\n",
       "    </tr>\n",
       "    <tr>\n",
       "      <th>25%</th>\n",
       "      <td>44.250000</td>\n",
       "      <td>6.200000</td>\n",
       "    </tr>\n",
       "    <tr>\n",
       "      <th>50%</th>\n",
       "      <td>58.000000</td>\n",
       "      <td>6.700000</td>\n",
       "    </tr>\n",
       "    <tr>\n",
       "      <th>75%</th>\n",
       "      <td>72.750000</td>\n",
       "      <td>7.300000</td>\n",
       "    </tr>\n",
       "    <tr>\n",
       "      <th>max</th>\n",
       "      <td>99.000000</td>\n",
       "      <td>8.500000</td>\n",
       "    </tr>\n",
       "  </tbody>\n",
       "</table>\n",
       "</div>"
      ],
      "text/plain": [
       "        metascore        imdb\n",
       "count  450.000000  450.000000\n",
       "mean    58.546667    6.679111\n",
       "std     18.050629    0.841231\n",
       "min     12.000000    3.100000\n",
       "25%     44.250000    6.200000\n",
       "50%     58.000000    6.700000\n",
       "75%     72.750000    7.300000\n",
       "max     99.000000    8.500000"
      ]
     },
     "execution_count": 119,
     "metadata": {},
     "output_type": "execute_result"
    }
   ],
   "source": [
    "movie_ratings[[\"metascore\",\"imdb\"]].describe()"
   ]
  },
  {
   "cell_type": "code",
   "execution_count": null,
   "metadata": {
    "collapsed": true
   },
   "outputs": [],
   "source": []
  }
 ],
 "metadata": {
  "kernelspec": {
   "display_name": "Python 3",
   "language": "python",
   "name": "python3"
  },
  "language_info": {
   "codemirror_mode": {
    "name": "ipython",
    "version": 3
   },
   "file_extension": ".py",
   "mimetype": "text/x-python",
   "name": "python",
   "nbconvert_exporter": "python",
   "pygments_lexer": "ipython3",
   "version": "3.6.0"
  }
 },
 "nbformat": 4,
 "nbformat_minor": 2
}

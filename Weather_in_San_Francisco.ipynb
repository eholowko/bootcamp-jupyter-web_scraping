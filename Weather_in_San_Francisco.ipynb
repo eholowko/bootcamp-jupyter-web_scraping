{
 "cells": [
  {
   "cell_type": "code",
   "execution_count": 58,
   "metadata": {
    "collapsed": false
   },
   "outputs": [],
   "source": [
    "import requests"
   ]
  },
  {
   "cell_type": "code",
   "execution_count": 59,
   "metadata": {
    "collapsed": true
   },
   "outputs": [],
   "source": [
    "from bs4 import BeautifulSoup"
   ]
  },
  {
   "cell_type": "markdown",
   "metadata": {},
   "source": [
    "# 7-days forecast in San Francisco from forecast.weather.gov"
   ]
  },
  {
   "cell_type": "code",
   "execution_count": 60,
   "metadata": {
    "collapsed": true
   },
   "outputs": [],
   "source": [
    "page = requests.get(\"https://forecast.weather.gov/MapClick.php?lat=37.7772&lon=-122.4168\")"
   ]
  },
  {
   "cell_type": "code",
   "execution_count": 61,
   "metadata": {
    "collapsed": true
   },
   "outputs": [],
   "source": [
    "soup = BeautifulSoup(page.content,'html.parser')"
   ]
  },
  {
   "cell_type": "code",
   "execution_count": 62,
   "metadata": {
    "collapsed": false
   },
   "outputs": [],
   "source": [
    "seven_day = soup.find(id=\"seven-day-forecast\")"
   ]
  },
  {
   "cell_type": "code",
   "execution_count": 63,
   "metadata": {
    "collapsed": false
   },
   "outputs": [],
   "source": [
    "forecast_items = seven_day.find_all(class_=\"tombstone-container\")"
   ]
  },
  {
   "cell_type": "markdown",
   "metadata": {},
   "source": [
    "## Extracting today forecast"
   ]
  },
  {
   "cell_type": "code",
   "execution_count": 64,
   "metadata": {
    "collapsed": false
   },
   "outputs": [
    {
     "name": "stdout",
     "output_type": "stream",
     "text": [
      "<div class=\"tombstone-container\">\n",
      " <p class=\"period-name\">\n",
      "  Today\n",
      "  <br>\n",
      "   <br/>\n",
      "  </br>\n",
      " </p>\n",
      " <p>\n",
      "  <img alt=\"Today: Cloudy, then gradually becoming mostly sunny, with a high near 62. West wind 7 to 12 mph increasing to 13 to 18 mph in the afternoon. Winds could gust as high as 24 mph. \" class=\"forecast-icon\" src=\"newimages/medium/bkn.png\" title=\"Today: Cloudy, then gradually becoming mostly sunny, with a high near 62. West wind 7 to 12 mph increasing to 13 to 18 mph in the afternoon. Winds could gust as high as 24 mph. \"/>\n",
      " </p>\n",
      " <p class=\"short-desc\">\n",
      "  Decreasing\n",
      "  <br>\n",
      "   Clouds\n",
      "  </br>\n",
      " </p>\n",
      " <p class=\"temp temp-high\">\n",
      "  High: 62 °F\n",
      " </p>\n",
      "</div>\n"
     ]
    }
   ],
   "source": [
    "today = forecast_items[0]\n",
    "print(today.prettify())"
   ]
  },
  {
   "cell_type": "code",
   "execution_count": 65,
   "metadata": {
    "collapsed": false
   },
   "outputs": [
    {
     "name": "stdout",
     "output_type": "stream",
     "text": [
      "Today\n",
      "DecreasingClouds\n",
      "High: 62 °F\n"
     ]
    }
   ],
   "source": [
    "period = today.find(class_=\"period-name\").get_text()\n",
    "short_desc = today.find(class_=\"short-desc\").get_text()\n",
    "temp = today.find(class_=\"temp\").get_text()\n",
    "\n",
    "print(period)\n",
    "print(short_desc)\n",
    "print(temp)"
   ]
  },
  {
   "cell_type": "code",
   "execution_count": 66,
   "metadata": {
    "collapsed": false
   },
   "outputs": [
    {
     "name": "stdout",
     "output_type": "stream",
     "text": [
      "Today: Cloudy, then gradually becoming mostly sunny, with a high near 62. West wind 7 to 12 mph increasing to 13 to 18 mph in the afternoon. Winds could gust as high as 24 mph. \n"
     ]
    }
   ],
   "source": [
    "img = today.find(\"img\")\n",
    "\n",
    "desc = img[\"title\"]\n",
    "print(desc)"
   ]
  },
  {
   "cell_type": "markdown",
   "metadata": {},
   "source": [
    "## Extracting 7-days forecast"
   ]
  },
  {
   "cell_type": "code",
   "execution_count": 67,
   "metadata": {
    "collapsed": false
   },
   "outputs": [
    {
     "data": {
      "text/plain": [
       "['Today',\n",
       " 'Tonight',\n",
       " 'Thursday',\n",
       " 'ThursdayNight',\n",
       " 'Friday',\n",
       " 'FridayNight',\n",
       " 'Saturday',\n",
       " 'SaturdayNight',\n",
       " 'Sunday']"
      ]
     },
     "execution_count": 67,
     "metadata": {},
     "output_type": "execute_result"
    }
   ],
   "source": [
    "period_tags = seven_day.select(\".tombstone-container .period-name\")\n",
    "periods = [pt.get_text() for pt in period_tags]\n",
    "periods"
   ]
  },
  {
   "cell_type": "code",
   "execution_count": 68,
   "metadata": {
    "collapsed": false
   },
   "outputs": [
    {
     "name": "stdout",
     "output_type": "stream",
     "text": [
      "['DecreasingClouds', 'IncreasingClouds', 'DecreasingClouds', 'Mostly Cloudy', 'Partly Sunny', 'Partly Cloudy', 'Mostly Sunny', 'Partly Cloudy', 'Mostly Sunny']\n",
      "['High: 62 °F', 'Low: 50 °F', 'High: 61 °F', 'Low: 51 °F', 'High: 60 °F', 'Low: 51 °F', 'High: 61 °F', 'Low: 51 °F', 'High: 61 °F']\n",
      "['Today: Cloudy, then gradually becoming mostly sunny, with a high near 62. West wind 7 to 12 mph increasing to 13 to 18 mph in the afternoon. Winds could gust as high as 24 mph. ', 'Tonight: Increasing clouds, with a low around 50. West southwest wind 9 to 18 mph, with gusts as high as 24 mph. ', 'Thursday: Cloudy, then gradually becoming mostly sunny, with a high near 61. West wind 9 to 14 mph increasing to 16 to 21 mph in the afternoon. Winds could gust as high as 26 mph. ', 'Thursday Night: Mostly cloudy, with a low around 51. West wind 16 to 20 mph, with gusts as high as 25 mph. ', 'Friday: Partly sunny, with a high near 60. West wind 10 to 15 mph, with gusts as high as 20 mph. ', 'Friday Night: Partly cloudy, with a low around 51.', 'Saturday: Mostly sunny, with a high near 61.', 'Saturday Night: Partly cloudy, with a low around 51.', 'Sunday: Mostly sunny, with a high near 61.']\n"
     ]
    }
   ],
   "source": [
    "short_desc = [sd.get_text() for sd in seven_day.select(\".tombstone-container .short-desc\")]\n",
    "temps = [t.get_text() for t in seven_day.select(\".tombstone-container .temp\")]\n",
    "desc = [d[\"title\"] for d in seven_day.select(\".tombstone-container img\")]\n",
    "print(short_desc)\n",
    "print(temps)\n",
    "print(desc)"
   ]
  },
  {
   "cell_type": "markdown",
   "metadata": {},
   "source": [
    " ## Combining data into a Pandas Dataframe"
   ]
  },
  {
   "cell_type": "code",
   "execution_count": 69,
   "metadata": {
    "collapsed": true
   },
   "outputs": [],
   "source": [
    "import pandas as pd"
   ]
  },
  {
   "cell_type": "code",
   "execution_count": 70,
   "metadata": {
    "collapsed": false
   },
   "outputs": [
    {
     "data": {
      "text/html": [
       "<div>\n",
       "<table border=\"1\" class=\"dataframe\">\n",
       "  <thead>\n",
       "    <tr style=\"text-align: right;\">\n",
       "      <th></th>\n",
       "      <th>desc</th>\n",
       "      <th>period</th>\n",
       "      <th>short_desc</th>\n",
       "      <th>temp</th>\n",
       "    </tr>\n",
       "  </thead>\n",
       "  <tbody>\n",
       "    <tr>\n",
       "      <th>0</th>\n",
       "      <td>Today: Cloudy, then gradually becoming mostly ...</td>\n",
       "      <td>Today</td>\n",
       "      <td>DecreasingClouds</td>\n",
       "      <td>High: 62 °F</td>\n",
       "    </tr>\n",
       "    <tr>\n",
       "      <th>1</th>\n",
       "      <td>Tonight: Increasing clouds, with a low around ...</td>\n",
       "      <td>Tonight</td>\n",
       "      <td>IncreasingClouds</td>\n",
       "      <td>Low: 50 °F</td>\n",
       "    </tr>\n",
       "    <tr>\n",
       "      <th>2</th>\n",
       "      <td>Thursday: Cloudy, then gradually becoming most...</td>\n",
       "      <td>Thursday</td>\n",
       "      <td>DecreasingClouds</td>\n",
       "      <td>High: 61 °F</td>\n",
       "    </tr>\n",
       "    <tr>\n",
       "      <th>3</th>\n",
       "      <td>Thursday Night: Mostly cloudy, with a low arou...</td>\n",
       "      <td>ThursdayNight</td>\n",
       "      <td>Mostly Cloudy</td>\n",
       "      <td>Low: 51 °F</td>\n",
       "    </tr>\n",
       "    <tr>\n",
       "      <th>4</th>\n",
       "      <td>Friday: Partly sunny, with a high near 60. Wes...</td>\n",
       "      <td>Friday</td>\n",
       "      <td>Partly Sunny</td>\n",
       "      <td>High: 60 °F</td>\n",
       "    </tr>\n",
       "    <tr>\n",
       "      <th>5</th>\n",
       "      <td>Friday Night: Partly cloudy, with a low around...</td>\n",
       "      <td>FridayNight</td>\n",
       "      <td>Partly Cloudy</td>\n",
       "      <td>Low: 51 °F</td>\n",
       "    </tr>\n",
       "    <tr>\n",
       "      <th>6</th>\n",
       "      <td>Saturday: Mostly sunny, with a high near 61.</td>\n",
       "      <td>Saturday</td>\n",
       "      <td>Mostly Sunny</td>\n",
       "      <td>High: 61 °F</td>\n",
       "    </tr>\n",
       "    <tr>\n",
       "      <th>7</th>\n",
       "      <td>Saturday Night: Partly cloudy, with a low arou...</td>\n",
       "      <td>SaturdayNight</td>\n",
       "      <td>Partly Cloudy</td>\n",
       "      <td>Low: 51 °F</td>\n",
       "    </tr>\n",
       "    <tr>\n",
       "      <th>8</th>\n",
       "      <td>Sunday: Mostly sunny, with a high near 61.</td>\n",
       "      <td>Sunday</td>\n",
       "      <td>Mostly Sunny</td>\n",
       "      <td>High: 61 °F</td>\n",
       "    </tr>\n",
       "  </tbody>\n",
       "</table>\n",
       "</div>"
      ],
      "text/plain": [
       "                                                desc         period  \\\n",
       "0  Today: Cloudy, then gradually becoming mostly ...          Today   \n",
       "1  Tonight: Increasing clouds, with a low around ...        Tonight   \n",
       "2  Thursday: Cloudy, then gradually becoming most...       Thursday   \n",
       "3  Thursday Night: Mostly cloudy, with a low arou...  ThursdayNight   \n",
       "4  Friday: Partly sunny, with a high near 60. Wes...         Friday   \n",
       "5  Friday Night: Partly cloudy, with a low around...    FridayNight   \n",
       "6       Saturday: Mostly sunny, with a high near 61.       Saturday   \n",
       "7  Saturday Night: Partly cloudy, with a low arou...  SaturdayNight   \n",
       "8         Sunday: Mostly sunny, with a high near 61.         Sunday   \n",
       "\n",
       "         short_desc         temp  \n",
       "0  DecreasingClouds  High: 62 °F  \n",
       "1  IncreasingClouds   Low: 50 °F  \n",
       "2  DecreasingClouds  High: 61 °F  \n",
       "3     Mostly Cloudy   Low: 51 °F  \n",
       "4      Partly Sunny  High: 60 °F  \n",
       "5     Partly Cloudy   Low: 51 °F  \n",
       "6      Mostly Sunny  High: 61 °F  \n",
       "7     Partly Cloudy   Low: 51 °F  \n",
       "8      Mostly Sunny  High: 61 °F  "
      ]
     },
     "execution_count": 70,
     "metadata": {},
     "output_type": "execute_result"
    }
   ],
   "source": [
    "weather = pd.DataFrame({\"period\":periods,\n",
    "                       \"short_desc\":short_desc,\n",
    "                       \"temp\":temps,\n",
    "                       \"desc\":desc})\n",
    "weather"
   ]
  },
  {
   "cell_type": "markdown",
   "metadata": {},
   "source": [
    "## Cleaning data"
   ]
  },
  {
   "cell_type": "code",
   "execution_count": 71,
   "metadata": {
    "collapsed": false
   },
   "outputs": [
    {
     "data": {
      "text/plain": [
       "0    62\n",
       "1    50\n",
       "2    61\n",
       "3    51\n",
       "4    60\n",
       "5    51\n",
       "6    61\n",
       "7    51\n",
       "8    61\n",
       "Name: temp_num, dtype: object"
      ]
     },
     "execution_count": 71,
     "metadata": {},
     "output_type": "execute_result"
    }
   ],
   "source": [
    "temp_nums = weather[\"temp\"].str.extract(\"(?P<temp_num>\\d+)\",expand=False)\n",
    "weather[\"temp_num\"] = temp_nums.astype(\"int\")\n",
    "temp_nums"
   ]
  },
  {
   "cell_type": "code",
   "execution_count": 72,
   "metadata": {
    "collapsed": false
   },
   "outputs": [],
   "source": [
    "weather = weather.drop([\"temp\"],axis=1)"
   ]
  },
  {
   "cell_type": "code",
   "execution_count": 73,
   "metadata": {
    "collapsed": false
   },
   "outputs": [
    {
     "data": {
      "text/html": [
       "<div>\n",
       "<table border=\"1\" class=\"dataframe\">\n",
       "  <thead>\n",
       "    <tr style=\"text-align: right;\">\n",
       "      <th></th>\n",
       "      <th>desc</th>\n",
       "      <th>period</th>\n",
       "      <th>short_desc</th>\n",
       "      <th>temp_num</th>\n",
       "    </tr>\n",
       "  </thead>\n",
       "  <tbody>\n",
       "    <tr>\n",
       "      <th>0</th>\n",
       "      <td>Today: Cloudy, then gradually becoming mostly ...</td>\n",
       "      <td>Today</td>\n",
       "      <td>DecreasingClouds</td>\n",
       "      <td>62</td>\n",
       "    </tr>\n",
       "    <tr>\n",
       "      <th>1</th>\n",
       "      <td>Tonight: Increasing clouds, with a low around ...</td>\n",
       "      <td>Tonight</td>\n",
       "      <td>IncreasingClouds</td>\n",
       "      <td>50</td>\n",
       "    </tr>\n",
       "    <tr>\n",
       "      <th>2</th>\n",
       "      <td>Thursday: Cloudy, then gradually becoming most...</td>\n",
       "      <td>Thursday</td>\n",
       "      <td>DecreasingClouds</td>\n",
       "      <td>61</td>\n",
       "    </tr>\n",
       "    <tr>\n",
       "      <th>3</th>\n",
       "      <td>Thursday Night: Mostly cloudy, with a low arou...</td>\n",
       "      <td>ThursdayNight</td>\n",
       "      <td>Mostly Cloudy</td>\n",
       "      <td>51</td>\n",
       "    </tr>\n",
       "    <tr>\n",
       "      <th>4</th>\n",
       "      <td>Friday: Partly sunny, with a high near 60. Wes...</td>\n",
       "      <td>Friday</td>\n",
       "      <td>Partly Sunny</td>\n",
       "      <td>60</td>\n",
       "    </tr>\n",
       "    <tr>\n",
       "      <th>5</th>\n",
       "      <td>Friday Night: Partly cloudy, with a low around...</td>\n",
       "      <td>FridayNight</td>\n",
       "      <td>Partly Cloudy</td>\n",
       "      <td>51</td>\n",
       "    </tr>\n",
       "    <tr>\n",
       "      <th>6</th>\n",
       "      <td>Saturday: Mostly sunny, with a high near 61.</td>\n",
       "      <td>Saturday</td>\n",
       "      <td>Mostly Sunny</td>\n",
       "      <td>61</td>\n",
       "    </tr>\n",
       "    <tr>\n",
       "      <th>7</th>\n",
       "      <td>Saturday Night: Partly cloudy, with a low arou...</td>\n",
       "      <td>SaturdayNight</td>\n",
       "      <td>Partly Cloudy</td>\n",
       "      <td>51</td>\n",
       "    </tr>\n",
       "    <tr>\n",
       "      <th>8</th>\n",
       "      <td>Sunday: Mostly sunny, with a high near 61.</td>\n",
       "      <td>Sunday</td>\n",
       "      <td>Mostly Sunny</td>\n",
       "      <td>61</td>\n",
       "    </tr>\n",
       "  </tbody>\n",
       "</table>\n",
       "</div>"
      ],
      "text/plain": [
       "                                                desc         period  \\\n",
       "0  Today: Cloudy, then gradually becoming mostly ...          Today   \n",
       "1  Tonight: Increasing clouds, with a low around ...        Tonight   \n",
       "2  Thursday: Cloudy, then gradually becoming most...       Thursday   \n",
       "3  Thursday Night: Mostly cloudy, with a low arou...  ThursdayNight   \n",
       "4  Friday: Partly sunny, with a high near 60. Wes...         Friday   \n",
       "5  Friday Night: Partly cloudy, with a low around...    FridayNight   \n",
       "6       Saturday: Mostly sunny, with a high near 61.       Saturday   \n",
       "7  Saturday Night: Partly cloudy, with a low arou...  SaturdayNight   \n",
       "8         Sunday: Mostly sunny, with a high near 61.         Sunday   \n",
       "\n",
       "         short_desc  temp_num  \n",
       "0  DecreasingClouds        62  \n",
       "1  IncreasingClouds        50  \n",
       "2  DecreasingClouds        61  \n",
       "3     Mostly Cloudy        51  \n",
       "4      Partly Sunny        60  \n",
       "5     Partly Cloudy        51  \n",
       "6      Mostly Sunny        61  \n",
       "7     Partly Cloudy        51  \n",
       "8      Mostly Sunny        61  "
      ]
     },
     "execution_count": 73,
     "metadata": {},
     "output_type": "execute_result"
    }
   ],
   "source": [
    "weather"
   ]
  },
  {
   "cell_type": "code",
   "execution_count": 74,
   "metadata": {
    "collapsed": false
   },
   "outputs": [],
   "source": [
    "weather[\"desc\"] = weather[\"desc\"].str.replace(\"([\\w]*[\\s]*[\\w]*:)([\\w]*)\",\"\")"
   ]
  },
  {
   "cell_type": "code",
   "execution_count": 75,
   "metadata": {
    "collapsed": false
   },
   "outputs": [
    {
     "data": {
      "text/html": [
       "<div>\n",
       "<table border=\"1\" class=\"dataframe\">\n",
       "  <thead>\n",
       "    <tr style=\"text-align: right;\">\n",
       "      <th></th>\n",
       "      <th>desc</th>\n",
       "      <th>period</th>\n",
       "      <th>short_desc</th>\n",
       "      <th>temp_num</th>\n",
       "    </tr>\n",
       "  </thead>\n",
       "  <tbody>\n",
       "    <tr>\n",
       "      <th>0</th>\n",
       "      <td>Cloudy, then gradually becoming mostly sunny,...</td>\n",
       "      <td>Today</td>\n",
       "      <td>DecreasingClouds</td>\n",
       "      <td>62</td>\n",
       "    </tr>\n",
       "    <tr>\n",
       "      <th>1</th>\n",
       "      <td>Increasing clouds, with a low around 50. West...</td>\n",
       "      <td>Tonight</td>\n",
       "      <td>IncreasingClouds</td>\n",
       "      <td>50</td>\n",
       "    </tr>\n",
       "    <tr>\n",
       "      <th>2</th>\n",
       "      <td>Cloudy, then gradually becoming mostly sunny,...</td>\n",
       "      <td>Thursday</td>\n",
       "      <td>DecreasingClouds</td>\n",
       "      <td>61</td>\n",
       "    </tr>\n",
       "    <tr>\n",
       "      <th>3</th>\n",
       "      <td>Mostly cloudy, with a low around 51. West win...</td>\n",
       "      <td>ThursdayNight</td>\n",
       "      <td>Mostly Cloudy</td>\n",
       "      <td>51</td>\n",
       "    </tr>\n",
       "    <tr>\n",
       "      <th>4</th>\n",
       "      <td>Partly sunny, with a high near 60. West wind ...</td>\n",
       "      <td>Friday</td>\n",
       "      <td>Partly Sunny</td>\n",
       "      <td>60</td>\n",
       "    </tr>\n",
       "    <tr>\n",
       "      <th>5</th>\n",
       "      <td>Partly cloudy, with a low around 51.</td>\n",
       "      <td>FridayNight</td>\n",
       "      <td>Partly Cloudy</td>\n",
       "      <td>51</td>\n",
       "    </tr>\n",
       "    <tr>\n",
       "      <th>6</th>\n",
       "      <td>Mostly sunny, with a high near 61.</td>\n",
       "      <td>Saturday</td>\n",
       "      <td>Mostly Sunny</td>\n",
       "      <td>61</td>\n",
       "    </tr>\n",
       "    <tr>\n",
       "      <th>7</th>\n",
       "      <td>Partly cloudy, with a low around 51.</td>\n",
       "      <td>SaturdayNight</td>\n",
       "      <td>Partly Cloudy</td>\n",
       "      <td>51</td>\n",
       "    </tr>\n",
       "    <tr>\n",
       "      <th>8</th>\n",
       "      <td>Mostly sunny, with a high near 61.</td>\n",
       "      <td>Sunday</td>\n",
       "      <td>Mostly Sunny</td>\n",
       "      <td>61</td>\n",
       "    </tr>\n",
       "  </tbody>\n",
       "</table>\n",
       "</div>"
      ],
      "text/plain": [
       "                                                desc         period  \\\n",
       "0   Cloudy, then gradually becoming mostly sunny,...          Today   \n",
       "1   Increasing clouds, with a low around 50. West...        Tonight   \n",
       "2   Cloudy, then gradually becoming mostly sunny,...       Thursday   \n",
       "3   Mostly cloudy, with a low around 51. West win...  ThursdayNight   \n",
       "4   Partly sunny, with a high near 60. West wind ...         Friday   \n",
       "5               Partly cloudy, with a low around 51.    FridayNight   \n",
       "6                 Mostly sunny, with a high near 61.       Saturday   \n",
       "7               Partly cloudy, with a low around 51.  SaturdayNight   \n",
       "8                 Mostly sunny, with a high near 61.         Sunday   \n",
       "\n",
       "         short_desc  temp_num  \n",
       "0  DecreasingClouds        62  \n",
       "1  IncreasingClouds        50  \n",
       "2  DecreasingClouds        61  \n",
       "3     Mostly Cloudy        51  \n",
       "4      Partly Sunny        60  \n",
       "5     Partly Cloudy        51  \n",
       "6      Mostly Sunny        61  \n",
       "7     Partly Cloudy        51  \n",
       "8      Mostly Sunny        61  "
      ]
     },
     "execution_count": 75,
     "metadata": {},
     "output_type": "execute_result"
    }
   ],
   "source": [
    "weather"
   ]
  },
  {
   "cell_type": "code",
   "execution_count": null,
   "metadata": {
    "collapsed": true
   },
   "outputs": [],
   "source": [
    " "
   ]
  }
 ],
 "metadata": {
  "kernelspec": {
   "display_name": "Python 3",
   "language": "python",
   "name": "python3"
  },
  "language_info": {
   "codemirror_mode": {
    "name": "ipython",
    "version": 3
   },
   "file_extension": ".py",
   "mimetype": "text/x-python",
   "name": "python",
   "nbconvert_exporter": "python",
   "pygments_lexer": "ipython3",
   "version": "3.6.0"
  }
 },
 "nbformat": 4,
 "nbformat_minor": 2
}
